{
 "cells": [
  {
   "cell_type": "code",
   "execution_count": 23,
   "metadata": {},
   "outputs": [
    {
     "ename": "HttpResponseError",
     "evalue": "(InvalidRequest) Invalid request.\nCode: InvalidRequest\nMessage: Invalid request.\nInner error: {\n    \"code\": \"InvalidManagedIdentity\",\n    \"message\": \"The managed identity configuration is invalid: Managed identity is not enabled for the current resource.\"\n}",
     "output_type": "error",
     "traceback": [
      "\u001b[1;31m---------------------------------------------------------------------------\u001b[0m",
      "\u001b[1;31mHttpResponseError\u001b[0m                         Traceback (most recent call last)",
      "Cell \u001b[1;32mIn[23], line 28\u001b[0m\n\u001b[0;32m     23\u001b[0m document_analysis_client \u001b[38;5;241m=\u001b[39m DocumentAnalysisClient(\n\u001b[0;32m     24\u001b[0m     endpoint\u001b[38;5;241m=\u001b[39mendpoint, credential\u001b[38;5;241m=\u001b[39mAzureKeyCredential(key)\n\u001b[0;32m     25\u001b[0m )\n\u001b[0;32m     27\u001b[0m \u001b[38;5;66;03m# Make sure your document's type is included in the list of document types the custom model can analyze\u001b[39;00m\n\u001b[1;32m---> 28\u001b[0m poller \u001b[38;5;241m=\u001b[39m \u001b[43mdocument_analysis_client\u001b[49m\u001b[38;5;241;43m.\u001b[39;49m\u001b[43mbegin_analyze_document_from_url\u001b[49m\u001b[43m(\u001b[49m\u001b[43mmodel_id\u001b[49m\u001b[43m,\u001b[49m\u001b[43m \u001b[49m\u001b[43mformUrl\u001b[49m\u001b[43m)\u001b[49m\n\u001b[0;32m     29\u001b[0m result \u001b[38;5;241m=\u001b[39m poller\u001b[38;5;241m.\u001b[39mresult()\n\u001b[0;32m     31\u001b[0m \u001b[38;5;28;01mfor\u001b[39;00m idx, document \u001b[38;5;129;01min\u001b[39;00m \u001b[38;5;28menumerate\u001b[39m(result\u001b[38;5;241m.\u001b[39mdocuments):\n",
      "File \u001b[1;32mc:\\Users\\parkm\\AppData\\Local\\Programs\\Python\\Python311\\Lib\\site-packages\\azure\\core\\tracing\\decorator.py:78\u001b[0m, in \u001b[0;36mdistributed_trace.<locals>.decorator.<locals>.wrapper_use_tracer\u001b[1;34m(*args, **kwargs)\u001b[0m\n\u001b[0;32m     76\u001b[0m span_impl_type \u001b[38;5;241m=\u001b[39m settings\u001b[38;5;241m.\u001b[39mtracing_implementation()\n\u001b[0;32m     77\u001b[0m \u001b[38;5;28;01mif\u001b[39;00m span_impl_type \u001b[38;5;129;01mis\u001b[39;00m \u001b[38;5;28;01mNone\u001b[39;00m:\n\u001b[1;32m---> 78\u001b[0m     \u001b[38;5;28;01mreturn\u001b[39;00m \u001b[43mfunc\u001b[49m\u001b[43m(\u001b[49m\u001b[38;5;241;43m*\u001b[39;49m\u001b[43margs\u001b[49m\u001b[43m,\u001b[49m\u001b[43m \u001b[49m\u001b[38;5;241;43m*\u001b[39;49m\u001b[38;5;241;43m*\u001b[39;49m\u001b[43mkwargs\u001b[49m\u001b[43m)\u001b[49m\n\u001b[0;32m     80\u001b[0m \u001b[38;5;66;03m# Merge span is parameter is set, but only if no explicit parent are passed\u001b[39;00m\n\u001b[0;32m     81\u001b[0m \u001b[38;5;28;01mif\u001b[39;00m merge_span \u001b[38;5;129;01mand\u001b[39;00m \u001b[38;5;129;01mnot\u001b[39;00m passed_in_parent:\n",
      "File \u001b[1;32mc:\\Users\\parkm\\AppData\\Local\\Programs\\Python\\Python311\\Lib\\site-packages\\azure\\ai\\formrecognizer\\_document_analysis_client.py:198\u001b[0m, in \u001b[0;36mDocumentAnalysisClient.begin_analyze_document_from_url\u001b[1;34m(self, model_id, document_url, **kwargs)\u001b[0m\n\u001b[0;32m    196\u001b[0m \u001b[38;5;28;01melse\u001b[39;00m:\n\u001b[0;32m    197\u001b[0m     _client_op_path \u001b[38;5;241m=\u001b[39m \u001b[38;5;28mself\u001b[39m\u001b[38;5;241m.\u001b[39m_client\u001b[38;5;241m.\u001b[39mdocument_models\n\u001b[1;32m--> 198\u001b[0m \u001b[38;5;28;01mreturn\u001b[39;00m \u001b[43m_client_op_path\u001b[49m\u001b[38;5;241;43m.\u001b[39;49m\u001b[43mbegin_analyze_document\u001b[49m\u001b[43m(\u001b[49m\u001b[43m  \u001b[49m\u001b[38;5;66;43;03m# type: ignore\u001b[39;49;00m\n\u001b[0;32m    199\u001b[0m \u001b[43m    \u001b[49m\u001b[43mmodel_id\u001b[49m\u001b[38;5;241;43m=\u001b[39;49m\u001b[43mmodel_id\u001b[49m\u001b[43m,\u001b[49m\n\u001b[0;32m    200\u001b[0m \u001b[43m    \u001b[49m\u001b[43manalyze_request\u001b[49m\u001b[38;5;241;43m=\u001b[39;49m\u001b[43m{\u001b[49m\u001b[38;5;124;43m\"\u001b[39;49m\u001b[38;5;124;43murlSource\u001b[39;49m\u001b[38;5;124;43m\"\u001b[39;49m\u001b[43m:\u001b[49m\u001b[43m \u001b[49m\u001b[43mdocument_url\u001b[49m\u001b[43m}\u001b[49m\u001b[43m,\u001b[49m\u001b[43m  \u001b[49m\u001b[38;5;66;43;03m# type: ignore\u001b[39;49;00m\n\u001b[0;32m    201\u001b[0m \u001b[43m    \u001b[49m\u001b[43mstring_index_type\u001b[49m\u001b[38;5;241;43m=\u001b[39;49m\u001b[38;5;124;43m\"\u001b[39;49m\u001b[38;5;124;43municodeCodePoint\u001b[39;49m\u001b[38;5;124;43m\"\u001b[39;49m\u001b[43m,\u001b[49m\n\u001b[0;32m    202\u001b[0m \u001b[43m    \u001b[49m\u001b[43mcontinuation_token\u001b[49m\u001b[38;5;241;43m=\u001b[39;49m\u001b[43mcontinuation_token\u001b[49m\u001b[43m,\u001b[49m\n\u001b[0;32m    203\u001b[0m \u001b[43m    \u001b[49m\u001b[38;5;28;43mcls\u001b[39;49m\u001b[38;5;241;43m=\u001b[39;49m\u001b[38;5;28;43mcls\u001b[39;49m\u001b[43m,\u001b[49m\n\u001b[0;32m    204\u001b[0m \u001b[43m    \u001b[49m\u001b[38;5;241;43m*\u001b[39;49m\u001b[38;5;241;43m*\u001b[39;49m\u001b[43mkwargs\u001b[49m\n\u001b[0;32m    205\u001b[0m \u001b[43m\u001b[49m\u001b[43m)\u001b[49m\n",
      "File \u001b[1;32mc:\\Users\\parkm\\AppData\\Local\\Programs\\Python\\Python311\\Lib\\site-packages\\azure\\core\\tracing\\decorator.py:78\u001b[0m, in \u001b[0;36mdistributed_trace.<locals>.decorator.<locals>.wrapper_use_tracer\u001b[1;34m(*args, **kwargs)\u001b[0m\n\u001b[0;32m     76\u001b[0m span_impl_type \u001b[38;5;241m=\u001b[39m settings\u001b[38;5;241m.\u001b[39mtracing_implementation()\n\u001b[0;32m     77\u001b[0m \u001b[38;5;28;01mif\u001b[39;00m span_impl_type \u001b[38;5;129;01mis\u001b[39;00m \u001b[38;5;28;01mNone\u001b[39;00m:\n\u001b[1;32m---> 78\u001b[0m     \u001b[38;5;28;01mreturn\u001b[39;00m \u001b[43mfunc\u001b[49m\u001b[43m(\u001b[49m\u001b[38;5;241;43m*\u001b[39;49m\u001b[43margs\u001b[49m\u001b[43m,\u001b[49m\u001b[43m \u001b[49m\u001b[38;5;241;43m*\u001b[39;49m\u001b[38;5;241;43m*\u001b[39;49m\u001b[43mkwargs\u001b[49m\u001b[43m)\u001b[49m\n\u001b[0;32m     80\u001b[0m \u001b[38;5;66;03m# Merge span is parameter is set, but only if no explicit parent are passed\u001b[39;00m\n\u001b[0;32m     81\u001b[0m \u001b[38;5;28;01mif\u001b[39;00m merge_span \u001b[38;5;129;01mand\u001b[39;00m \u001b[38;5;129;01mnot\u001b[39;00m passed_in_parent:\n",
      "File \u001b[1;32mc:\\Users\\parkm\\AppData\\Local\\Programs\\Python\\Python311\\Lib\\site-packages\\azure\\ai\\formrecognizer\\_generated\\v2023_07_31\\operations\\_document_models_operations.py:518\u001b[0m, in \u001b[0;36mDocumentModelsOperations.begin_analyze_document\u001b[1;34m(self, model_id, pages, locale, string_index_type, features, analyze_request, content_type, **kwargs)\u001b[0m\n\u001b[0;32m    516\u001b[0m cont_token \u001b[38;5;241m=\u001b[39m kwargs\u001b[38;5;241m.\u001b[39mpop(\u001b[38;5;124m'\u001b[39m\u001b[38;5;124mcontinuation_token\u001b[39m\u001b[38;5;124m'\u001b[39m, \u001b[38;5;28;01mNone\u001b[39;00m)  \u001b[38;5;66;03m# type: Optional[str]\u001b[39;00m\n\u001b[0;32m    517\u001b[0m \u001b[38;5;28;01mif\u001b[39;00m cont_token \u001b[38;5;129;01mis\u001b[39;00m \u001b[38;5;28;01mNone\u001b[39;00m:\n\u001b[1;32m--> 518\u001b[0m     raw_result \u001b[38;5;241m=\u001b[39m \u001b[38;5;28;43mself\u001b[39;49m\u001b[38;5;241;43m.\u001b[39;49m\u001b[43m_analyze_document_initial\u001b[49m\u001b[43m(\u001b[49m\u001b[43m  \u001b[49m\u001b[38;5;66;43;03m# type: ignore\u001b[39;49;00m\n\u001b[0;32m    519\u001b[0m \u001b[43m        \u001b[49m\u001b[43mmodel_id\u001b[49m\u001b[38;5;241;43m=\u001b[39;49m\u001b[43mmodel_id\u001b[49m\u001b[43m,\u001b[49m\n\u001b[0;32m    520\u001b[0m \u001b[43m        \u001b[49m\u001b[43mpages\u001b[49m\u001b[38;5;241;43m=\u001b[39;49m\u001b[43mpages\u001b[49m\u001b[43m,\u001b[49m\n\u001b[0;32m    521\u001b[0m \u001b[43m        \u001b[49m\u001b[43mlocale\u001b[49m\u001b[38;5;241;43m=\u001b[39;49m\u001b[43mlocale\u001b[49m\u001b[43m,\u001b[49m\n\u001b[0;32m    522\u001b[0m \u001b[43m        \u001b[49m\u001b[43mstring_index_type\u001b[49m\u001b[38;5;241;43m=\u001b[39;49m\u001b[43mstring_index_type\u001b[49m\u001b[43m,\u001b[49m\n\u001b[0;32m    523\u001b[0m \u001b[43m        \u001b[49m\u001b[43mfeatures\u001b[49m\u001b[38;5;241;43m=\u001b[39;49m\u001b[43mfeatures\u001b[49m\u001b[43m,\u001b[49m\n\u001b[0;32m    524\u001b[0m \u001b[43m        \u001b[49m\u001b[43manalyze_request\u001b[49m\u001b[38;5;241;43m=\u001b[39;49m\u001b[43manalyze_request\u001b[49m\u001b[43m,\u001b[49m\n\u001b[0;32m    525\u001b[0m \u001b[43m        \u001b[49m\u001b[43mcontent_type\u001b[49m\u001b[38;5;241;43m=\u001b[39;49m\u001b[43mcontent_type\u001b[49m\u001b[43m,\u001b[49m\n\u001b[0;32m    526\u001b[0m \u001b[43m        \u001b[49m\u001b[43mapi_version\u001b[49m\u001b[38;5;241;43m=\u001b[39;49m\u001b[43mapi_version\u001b[49m\u001b[43m,\u001b[49m\n\u001b[0;32m    527\u001b[0m \u001b[43m        \u001b[49m\u001b[38;5;28;43mcls\u001b[39;49m\u001b[38;5;241;43m=\u001b[39;49m\u001b[38;5;28;43;01mlambda\u001b[39;49;00m\u001b[43m \u001b[49m\u001b[43mx\u001b[49m\u001b[43m,\u001b[49m\u001b[43my\u001b[49m\u001b[43m,\u001b[49m\u001b[43mz\u001b[49m\u001b[43m:\u001b[49m\u001b[43m \u001b[49m\u001b[43mx\u001b[49m\u001b[43m,\u001b[49m\n\u001b[0;32m    528\u001b[0m \u001b[43m        \u001b[49m\u001b[43mheaders\u001b[49m\u001b[38;5;241;43m=\u001b[39;49m\u001b[43m_headers\u001b[49m\u001b[43m,\u001b[49m\n\u001b[0;32m    529\u001b[0m \u001b[43m        \u001b[49m\u001b[43mparams\u001b[49m\u001b[38;5;241;43m=\u001b[39;49m\u001b[43m_params\u001b[49m\u001b[43m,\u001b[49m\n\u001b[0;32m    530\u001b[0m \u001b[43m        \u001b[49m\u001b[38;5;241;43m*\u001b[39;49m\u001b[38;5;241;43m*\u001b[39;49m\u001b[43mkwargs\u001b[49m\n\u001b[0;32m    531\u001b[0m \u001b[43m    \u001b[49m\u001b[43m)\u001b[49m\n\u001b[0;32m    532\u001b[0m kwargs\u001b[38;5;241m.\u001b[39mpop(\u001b[38;5;124m'\u001b[39m\u001b[38;5;124merror_map\u001b[39m\u001b[38;5;124m'\u001b[39m, \u001b[38;5;28;01mNone\u001b[39;00m)\n\u001b[0;32m    534\u001b[0m \u001b[38;5;28;01mdef\u001b[39;00m \u001b[38;5;21mget_long_running_output\u001b[39m(pipeline_response):\n",
      "File \u001b[1;32mc:\\Users\\parkm\\AppData\\Local\\Programs\\Python\\Python311\\Lib\\site-packages\\azure\\ai\\formrecognizer\\_generated\\v2023_07_31\\operations\\_document_models_operations.py:443\u001b[0m, in \u001b[0;36mDocumentModelsOperations._analyze_document_initial\u001b[1;34m(self, model_id, pages, locale, string_index_type, features, analyze_request, content_type, **kwargs)\u001b[0m\n\u001b[0;32m    441\u001b[0m \u001b[38;5;28;01mif\u001b[39;00m response\u001b[38;5;241m.\u001b[39mstatus_code \u001b[38;5;129;01mnot\u001b[39;00m \u001b[38;5;129;01min\u001b[39;00m [\u001b[38;5;241m202\u001b[39m]:\n\u001b[0;32m    442\u001b[0m     map_error(status_code\u001b[38;5;241m=\u001b[39mresponse\u001b[38;5;241m.\u001b[39mstatus_code, response\u001b[38;5;241m=\u001b[39mresponse, error_map\u001b[38;5;241m=\u001b[39merror_map)\n\u001b[1;32m--> 443\u001b[0m     \u001b[38;5;28;01mraise\u001b[39;00m HttpResponseError(response\u001b[38;5;241m=\u001b[39mresponse)\n\u001b[0;32m    445\u001b[0m response_headers \u001b[38;5;241m=\u001b[39m {}\n\u001b[0;32m    446\u001b[0m response_headers[\u001b[38;5;124m'\u001b[39m\u001b[38;5;124mOperation-Location\u001b[39m\u001b[38;5;124m'\u001b[39m]\u001b[38;5;241m=\u001b[39m\u001b[38;5;28mself\u001b[39m\u001b[38;5;241m.\u001b[39m_deserialize(\u001b[38;5;124m'\u001b[39m\u001b[38;5;124mstr\u001b[39m\u001b[38;5;124m'\u001b[39m, response\u001b[38;5;241m.\u001b[39mheaders\u001b[38;5;241m.\u001b[39mget(\u001b[38;5;124m'\u001b[39m\u001b[38;5;124mOperation-Location\u001b[39m\u001b[38;5;124m'\u001b[39m))\n",
      "\u001b[1;31mHttpResponseError\u001b[0m: (InvalidRequest) Invalid request.\nCode: InvalidRequest\nMessage: Invalid request.\nInner error: {\n    \"code\": \"InvalidManagedIdentity\",\n    \"message\": \"The managed identity configuration is invalid: Managed identity is not enabled for the current resource.\"\n}"
     ]
    }
   ],
   "source": [
    "from azure.core.credentials import AzureKeyCredential\n",
    "from azure.ai.formrecognizer import DocumentAnalysisClient\n",
    "\n",
    "\n",
    "#AzureAIServies endpoint&key\n",
    "endpoint = \"https://globalaibootcamp-s1-01.cognitiveservices.azure.com/\"\n",
    "key = \"75b7320edf304e52981f453cfda924ad\"\n",
    "\n",
    "#사용할 AI 모델 이름\n",
    "model_id = \"first_model\"\n",
    "\n",
    "#\n",
    "formUrl = \"https://gabs101.blob.core.windows.net/gabs101/예제1.pdf\"\n",
    "\n",
    "document_analysis_client = DocumentAnalysisClient(\n",
    "    endpoint=endpoint, credential=AzureKeyCredential(key)\n",
    ")\n",
    "\n",
    "# Make sure your document's type is included in the list of document types the custom model can analyze\n",
    "poller = document_analysis_client.begin_analyze_document_from_url(model_id, formUrl)\n",
    "result = poller.result()\n",
    "\n",
    "for idx, document in enumerate(result.documents):\n",
    "    print(\"--------Analyzing document #{}--------\".format(idx + 1))\n",
    "    print(\"Document has type {}\".format(document.doc_type))\n",
    "    print(\"Document has confidence {}\".format(document.confidence))\n",
    "    print(\"Document was analyzed by model with ID {}\".format(result.model_id))\n",
    "    for name, field in document.fields.items():\n",
    "        field_value = field.value if field.value else field.content\n",
    "        print(\"......found field of type '{}' with value '{}' and with confidence {}\".format(field.value_type, field_value, field.confidence))\n",
    "\n",
    "\n",
    "# iterate over tables, lines, and selection marks on each page\n",
    "for page in result.pages:\n",
    "    print(\"\\nLines found on page {}\".format(page.page_number))\n",
    "    for line in page.lines:\n",
    "        print(\"...Line '{}'\".format(line.content.encode('utf-8')))\n",
    "    for word in page.words:\n",
    "        print(\n",
    "            \"...Word '{}' has a confidence of {}\".format(\n",
    "                word.content.encode('utf-8'), word.confidence\n",
    "            )\n",
    "        )\n",
    "    for selection_mark in page.selection_marks:\n",
    "        print(\n",
    "            \"...Selection mark is '{}' and has a confidence of {}\".format(\n",
    "                selection_mark.state, selection_mark.confidence\n",
    "            )\n",
    "        )\n",
    "\n",
    "for i, table in enumerate(result.tables):\n",
    "    print(\"\\nTable {} can be found on page:\".format(i + 1))\n",
    "    for region in table.bounding_regions:\n",
    "        print(\"...{}\".format(i + 1, region.page_number))\n",
    "    for cell in table.cells:\n",
    "        print(\n",
    "            \"...Cell[{}][{}] has content '{}'\".format(\n",
    "                cell.row_index, cell.column_index, cell.content.encode('utf-8')\n",
    "            )\n",
    "        )\n",
    "print(\"-----------------------------------\")\n"
   ]
  },
  {
   "cell_type": "code",
   "execution_count": 4,
   "metadata": {},
   "outputs": [
    {
     "name": "stdout",
     "output_type": "stream",
     "text": [
      "Requirement already satisfied: azure-storage-blob in c:\\users\\parkm\\appdata\\local\\programs\\python\\python311\\lib\\site-packages (12.19.0)\n",
      "Requirement already satisfied: azure-identity in c:\\users\\parkm\\appdata\\local\\programs\\python\\python311\\lib\\site-packages (1.15.0)\n",
      "Requirement already satisfied: azure-ai-documentintelligence in c:\\users\\parkm\\appdata\\local\\programs\\python\\python311\\lib\\site-packages (1.0.0b1)\n",
      "Requirement already satisfied: azure-core<2.0.0,>=1.28.0 in c:\\users\\parkm\\appdata\\local\\programs\\python\\python311\\lib\\site-packages (from azure-storage-blob) (1.29.4)\n",
      "Requirement already satisfied: cryptography>=2.1.4 in c:\\users\\parkm\\appdata\\local\\programs\\python\\python311\\lib\\site-packages (from azure-storage-blob) (41.0.3)\n",
      "Requirement already satisfied: typing-extensions>=4.3.0 in c:\\users\\parkm\\appdata\\local\\programs\\python\\python311\\lib\\site-packages (from azure-storage-blob) (4.9.0)\n",
      "Requirement already satisfied: isodate>=0.6.1 in c:\\users\\parkm\\appdata\\local\\programs\\python\\python311\\lib\\site-packages (from azure-storage-blob) (0.6.1)\n",
      "Requirement already satisfied: msal<2.0.0,>=1.24.0 in c:\\users\\parkm\\appdata\\local\\programs\\python\\python311\\lib\\site-packages (from azure-identity) (1.24.0)\n",
      "Requirement already satisfied: msal-extensions<2.0.0,>=0.3.0 in c:\\users\\parkm\\appdata\\local\\programs\\python\\python311\\lib\\site-packages (from azure-identity) (1.0.0)\n",
      "Requirement already satisfied: requests>=2.18.4 in c:\\users\\parkm\\appdata\\local\\programs\\python\\python311\\lib\\site-packages (from azure-core<2.0.0,>=1.28.0->azure-storage-blob) (2.29.0)\n",
      "Requirement already satisfied: six>=1.11.0 in c:\\users\\parkm\\appdata\\roaming\\python\\python311\\site-packages (from azure-core<2.0.0,>=1.28.0->azure-storage-blob) (1.16.0)\n",
      "Requirement already satisfied: cffi>=1.12 in c:\\users\\parkm\\appdata\\local\\programs\\python\\python311\\lib\\site-packages (from cryptography>=2.1.4->azure-storage-blob) (1.15.1)\n",
      "Requirement already satisfied: PyJWT<3,>=1.0.0 in c:\\users\\parkm\\appdata\\local\\programs\\python\\python311\\lib\\site-packages (from PyJWT[crypto]<3,>=1.0.0->msal<2.0.0,>=1.24.0->azure-identity) (2.8.0)\n",
      "Requirement already satisfied: portalocker<3,>=1.6 in c:\\users\\parkm\\appdata\\local\\programs\\python\\python311\\lib\\site-packages (from msal-extensions<2.0.0,>=0.3.0->azure-identity) (2.7.0)\n",
      "Requirement already satisfied: pycparser in c:\\users\\parkm\\appdata\\local\\programs\\python\\python311\\lib\\site-packages (from cffi>=1.12->cryptography>=2.1.4->azure-storage-blob) (2.21)\n",
      "Requirement already satisfied: pywin32>=226 in c:\\users\\parkm\\appdata\\roaming\\python\\python311\\site-packages (from portalocker<3,>=1.6->msal-extensions<2.0.0,>=0.3.0->azure-identity) (306)\n",
      "Requirement already satisfied: charset-normalizer<4,>=2 in c:\\users\\parkm\\appdata\\local\\programs\\python\\python311\\lib\\site-packages (from requests>=2.18.4->azure-core<2.0.0,>=1.28.0->azure-storage-blob) (3.1.0)\n",
      "Requirement already satisfied: idna<4,>=2.5 in c:\\users\\parkm\\appdata\\local\\programs\\python\\python311\\lib\\site-packages (from requests>=2.18.4->azure-core<2.0.0,>=1.28.0->azure-storage-blob) (3.4)\n",
      "Requirement already satisfied: urllib3<1.27,>=1.21.1 in c:\\users\\parkm\\appdata\\local\\programs\\python\\python311\\lib\\site-packages (from requests>=2.18.4->azure-core<2.0.0,>=1.28.0->azure-storage-blob) (1.26.15)\n",
      "Requirement already satisfied: certifi>=2017.4.17 in c:\\users\\parkm\\appdata\\local\\programs\\python\\python311\\lib\\site-packages (from requests>=2.18.4->azure-core<2.0.0,>=1.28.0->azure-storage-blob) (2022.12.7)\n",
      "Note: you may need to restart the kernel to use updated packages.\n"
     ]
    }
   ],
   "source": [
    "%pip install azure-storage-blob azure-identity azure-ai-documentintelligence"
   ]
  },
  {
   "cell_type": "code",
   "execution_count": 56,
   "metadata": {},
   "outputs": [],
   "source": [
    "from azure.core.credentials import AzureKeyCredential\n",
    "from azure.ai.formrecognizer import DocumentAnalysisClient\n",
    "from azure.storage.blob import BlobServiceClient, BlobClient\n",
    "import os\n",
    "\n",
    "output_directory = \"C:/Users/parkm/Desktop/\"\n",
    "\n",
    "def doing(file_name):\n",
    "\n",
    "    # Azure Document Intelligence  서비스의 엔드포인트와 키, 모델 이름\n",
    "    form_recognizer_endpoint = \"https://globalaibootcamp-s1-01.cognitiveservices.azure.com/\"\n",
    "    form_recognizer_key = \"75b7320edf304e52981f453cfda924ad\"\n",
    "    model_id = \"first_model\"\n",
    "\n",
    "    # Azure Blob Storage 계정 정보\n",
    "    blob_account_name = \"gabs101\"\n",
    "    blob_account_key = \"BP3TFJ+rMuxxCq/zDutEjqVCuuAfjijzEaUEe07wwsofI2XTpZ/+w0hRxMEV2wQYYIlCDvV7Ubez+AStoDXWeA==\"\n",
    "\n",
    "    # Blob Storage 클라이언트 생성\n",
    "    blob_service_client = BlobServiceClient(\n",
    "        account_url=f\"https://{blob_account_name}.blob.core.windows.net\",\n",
    "        credential=blob_account_key\n",
    "    )\n",
    "\n",
    "    # Blob의 일반 링크\n",
    "    blob_url = f'https://gabs101.blob.core.windows.net/gabs101/{file_name}'\n",
    "\n",
    "    # Blob 다운로드\n",
    "    blob_client = BlobClient.from_blob_url(blob_url, credential=blob_account_key)\n",
    "    blob_data = blob_client.download_blob().readall()\n",
    "\n",
    "    # Document Analysis 클라이언트 생성\n",
    "    document_analysis_client = DocumentAnalysisClient(\n",
    "        endpoint=form_recognizer_endpoint, credential=AzureKeyCredential(form_recognizer_key)\n",
    "    )\n",
    "\n",
    "\n",
    "\n",
    "    # Make sure your document's type is included in the list of document types the custom model can analyze\n",
    "    poller = document_analysis_client.begin_analyze_document(model_id, blob_data)\n",
    "    result = poller.result()\n",
    "\n",
    "    txt_file_name = os.path.join(output_directory, f\"{os.path.splitext(file_name)[0]}.txt\")\n",
    "\n",
    "    for document in result.documents:\n",
    "        with open(txt_file_name, \"w\") as file:\n",
    "            for name, field in document.fields.items():\n",
    "                field_value = field.value if field.value else field.content\n",
    "                print(\"{}:'{}'\".format(name, field_value))\n",
    "                file.write(f\"{name}: '{field_value}'\\n\")\n",
    "\n",
    "   "
   ]
  },
  {
   "cell_type": "code",
   "execution_count": 59,
   "metadata": {},
   "outputs": [
    {
     "name": "stdout",
     "output_type": "stream",
     "text": [
      "learnt:'Thank u so much 여 러 분'\n",
      "reason:'걍 참 가 했 음'\n",
      "satis_survey:'[DocumentField(value_type=dictionary, value={'satis': DocumentField(value_type=string, value='V', content=V, bounding_regions=[BoundingRegion(page_number=1, polygon=[Point(x=4.515, y=8.105), Point(x=4.645, y=8.105), Point(x=4.645, y=8.34), Point(x=4.515, y=8.34)])], spans=[DocumentSpan(offset=218, length=1)], confidence=None), 'dissatis': DocumentField(value_type=string, value=None, content=None, bounding_regions=[], spans=[], confidence=None)}, content=None, bounding_regions=[], spans=[], confidence=None), DocumentField(value_type=dictionary, value={'satis': DocumentField(value_type=string, value='V', content=V, bounding_regions=[BoundingRegion(page_number=1, polygon=[Point(x=4.525, y=8.69), Point(x=4.655, y=8.69), Point(x=4.655, y=8.925), Point(x=4.525, y=8.925)])], spans=[DocumentSpan(offset=234, length=1)], confidence=None), 'dissatis': DocumentField(value_type=string, value=None, content=None, bounding_regions=[], spans=[], confidence=None)}, content=None, bounding_regions=[], spans=[], confidence=None)]'\n",
      "information:'{'name': DocumentField(value_type=dictionary, value={'ROW1': DocumentField(value_type=string, value='개 구 리', content=개구리, bounding_regions=[BoundingRegion(page_number=1, polygon=[Point(x=1.7, y=5.905), Point(x=2.31, y=5.905), Point(x=2.31, y=6.155), Point(x=1.7, y=6.155)])], spans=[DocumentSpan(offset=136, length=3)], confidence=None)}, content=None, bounding_regions=[], spans=[], confidence=None), 'birth': DocumentField(value_type=dictionary, value={'ROW1': DocumentField(value_type=string, value='2023/03/23', content=2023/03/23, bounding_regions=[BoundingRegion(page_number=1, polygon=[Point(x=3.51, y=5.92), Point(x=4.655, y=5.92), Point(x=4.655, y=6.17), Point(x=3.51, y=6.17)])], spans=[DocumentSpan(offset=140, length=10)], confidence=None)}, content=None, bounding_regions=[], spans=[], confidence=None), 'phone': DocumentField(value_type=dictionary, value={'ROW1': DocumentField(value_type=string, value='010-2555-8999', content=010-2555-8999, bounding_regions=[BoundingRegion(page_number=1, polygon=[Point(x=5.425, y=5.915), Point(x=6.94, y=5.915), Point(x=6.94, y=6.155), Point(x=5.425, y=6.155)])], spans=[DocumentSpan(offset=151, length=13)], confidence=None)}, content=None, bounding_regions=[], spans=[], confidence=None)}'\n"
     ]
    }
   ],
   "source": [
    "doing(\"예제1.pdf\")"
   ]
  },
  {
   "cell_type": "code",
   "execution_count": 60,
   "metadata": {},
   "outputs": [
    {
     "name": "stdout",
     "output_type": "stream",
     "text": [
      "텍스트 파일이 성공적으로 수정되었습니다.\n"
     ]
    }
   ],
   "source": [
    "import re\n",
    "\n",
    "# 파일 경로 설정\n",
    "txt_file_path = \"C:/Users/parkm/Desktop/예제1.txt\"\n",
    "\n",
    "# 정보 추출을 위한 정규식 패턴\n",
    "information_pattern = r\"information:'({.*?})'\"\n",
    "satis_survey_pattern = r\"satis_survey:'\\[(.*?)\\]'\"\n",
    "\n",
    "# 파일 내용 읽기\n",
    "with open(txt_file_path, \"r\") as file:\n",
    "    memo = file.read()\n",
    "\n",
    "#reason, learnt 줄은 그대로 유지. 건너띄기. information줄에선 information:만 남기고 뒤에 내용 아래 수행 정보로 대체\n",
    "satis_survey 줄에서도 information줄처럼 해!!!!!!!!!!!!!!!!!\n",
    "\n",
    "# 정보 추출\n",
    "information_data = {}\n",
    "satis_survey_data = []\n",
    "\n",
    "# 정보 추출\n",
    "information_match = re.search(information_pattern, memo, re.DOTALL)\n",
    "if information_match:\n",
    "    information_section = information_match.group(1)\n",
    "    for match in re.finditer(r\"'(\\w+)': DocumentField.*?value='(.*?)'\", information_section):\n",
    "        key = match.group(1)\n",
    "        value = match.group(2)\n",
    "        information_data[key] = value\n",
    "\n",
    "# 만약 satis_survey가 존재하면 추출\n",
    "satis_survey_match = re.search(satis_survey_pattern, memo, re.DOTALL)\n",
    "if satis_survey_match:\n",
    "    satis_survey_section = satis_survey_match.group(1)\n",
    "    for match in re.finditer(r\"'satis':\\s*DocumentField.*?value='(.*?)'\", satis_survey_section):\n",
    "        satis_survey_data.append({'satis': match.group(1)})\n",
    "\n",
    "# 파일 내용 수정\n",
    "with open(txt_file_path, \"w\") as file:\n",
    "    file.write(f\"information: {information_data}\\n\")\n",
    "    file.write(f\"satis_survey: {satis_survey_data}\\n\")\n",
    "\n",
    "print(\"텍스트 파일이 성공적으로 수정되었습니다.\")\n"
   ]
  }
 ],
 "metadata": {
  "kernelspec": {
   "display_name": "Python 3",
   "language": "python",
   "name": "python3"
  },
  "language_info": {
   "codemirror_mode": {
    "name": "ipython",
    "version": 3
   },
   "file_extension": ".py",
   "mimetype": "text/x-python",
   "name": "python",
   "nbconvert_exporter": "python",
   "pygments_lexer": "ipython3",
   "version": "3.11.1"
  }
 },
 "nbformat": 4,
 "nbformat_minor": 2
}
